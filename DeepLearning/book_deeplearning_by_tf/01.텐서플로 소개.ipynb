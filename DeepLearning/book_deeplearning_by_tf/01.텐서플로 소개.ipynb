{
 "cells": [
  {
   "cell_type": "markdown",
   "metadata": {},
   "source": [
    "# 텐서플로 소개"
   ]
  },
  {
   "cell_type": "code",
   "execution_count": 1,
   "metadata": {},
   "outputs": [
    {
     "name": "stdout",
     "output_type": "stream",
     "text": [
      "b'Hello, Tensorflow!'\n",
      "42\n"
     ]
    }
   ],
   "source": [
    "import tensorflow as tf\n",
    "\n",
    "hello = tf.constant('Hello, Tensorflow!')\n",
    "\n",
    "sess = tf.Session()\n",
    "print(sess.run(hello))\n",
    "# 'Hello, Tensorflow!'\n",
    "\n",
    "a = tf.constant(10)\n",
    "b = tf.constant(32)\n",
    "print(sess.run(a + b))\n",
    "#42\n",
    "\n",
    "sess.close()\n"
   ]
  },
  {
   "cell_type": "markdown",
   "metadata": {},
   "source": [
    "# 텐서플로 추상화 라이브러리\n",
    "## 케라스\n"
   ]
  },
  {
   "cell_type": "code",
   "execution_count": 3,
   "metadata": {},
   "outputs": [
    {
     "name": "stderr",
     "output_type": "stream",
     "text": [
      "Using TensorFlow backend.\n",
      "WARNING: Logging before flag parsing goes to stderr.\n",
      "W0807 21:55:21.165485 4530320832 deprecation_wrapper.py:119] From /Users/hyegeuncho/venv/lib/python3.7/site-packages/keras/backend/tensorflow_backend.py:74: The name tf.get_default_graph is deprecated. Please use tf.compat.v1.get_default_graph instead.\n",
      "\n",
      "W0807 21:55:21.167098 4530320832 deprecation_wrapper.py:119] From /Users/hyegeuncho/venv/lib/python3.7/site-packages/keras/backend/tensorflow_backend.py:517: The name tf.placeholder is deprecated. Please use tf.compat.v1.placeholder instead.\n",
      "\n",
      "W0807 21:55:21.170576 4530320832 deprecation_wrapper.py:119] From /Users/hyegeuncho/venv/lib/python3.7/site-packages/keras/backend/tensorflow_backend.py:4138: The name tf.random_uniform is deprecated. Please use tf.random.uniform instead.\n",
      "\n"
     ]
    }
   ],
   "source": [
    "# 이렇게 모델 클래스를 선언해서\n",
    "from keras.models import Sequential\n",
    "model = Sequential()\n",
    "\n",
    "# 모델에 인공 신경망 층을 추가하는 형태로 간단하게 신경망 모델을 구현할 수 있다.\n",
    "from keras.layers import Dense\n",
    "model.add(Dense(units = 64, activation = 'relu', input_dim = 100))\n",
    "model.add(Dense(units = 10, activation = 'softmax'))\n"
   ]
  },
  {
   "cell_type": "code",
   "execution_count": null,
   "metadata": {},
   "outputs": [],
   "source": [
    "## TF-Slim\n",
    "\n",
    "경량화된 텐서플로 추상화 라이브러리로 반복 코드를 간결하게 작성할 수 있고 에러를 예방할 수 있다. \n",
    "CNN 구조들의 사전 학습된 파라미터들을 제공하므로 손쉽게 파인 튜닝을 할수 잇"
   ]
  }
 ],
 "metadata": {
  "kernelspec": {
   "display_name": "Python 3",
   "language": "python",
   "name": "python3"
  },
  "language_info": {
   "codemirror_mode": {
    "name": "ipython",
    "version": 3
   },
   "file_extension": ".py",
   "mimetype": "text/x-python",
   "name": "python",
   "nbconvert_exporter": "python",
   "pygments_lexer": "ipython3",
   "version": "3.7.4"
  }
 },
 "nbformat": 4,
 "nbformat_minor": 2
}
